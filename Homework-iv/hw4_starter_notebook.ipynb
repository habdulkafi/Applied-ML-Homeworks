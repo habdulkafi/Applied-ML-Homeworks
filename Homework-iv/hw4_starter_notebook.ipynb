{
 "cells": [
  {
   "cell_type": "markdown",
   "metadata": {},
   "source": [
    "# Homework 4: Modeling Text Data\n",
    "\n",
    "### Team Member 1:\n",
    "* UNI:  hsa2136\n",
    "* Name: Husam Abdul-Kafi\n"
   ]
  },
  {
   "cell_type": "markdown",
   "metadata": {},
   "source": [
    "You can find the data here: https://data.boston.gov/dataset/vision-zero-entry"
   ]
  },
  {
   "cell_type": "markdown",
   "metadata": {},
   "source": [
    "# Task1 - Data Cleaning  [10 points]"
   ]
  },
  {
   "cell_type": "markdown",
   "metadata": {},
   "source": [
    "Load the data, visualize the class distribution. Clean up the target labels. Some categories have been arbitrarily split and need to be consolidated. "
   ]
  },
  {
   "cell_type": "code",
   "execution_count": 501,
   "metadata": {
    "collapsed": true
   },
   "outputs": [],
   "source": [
    "%matplotlib inline\n",
    "import matplotlib.pyplot as plt\n",
    "import seaborn as sn\n",
    "import pandas as pd\n",
    "import numpy as np\n",
    "from sklearn.model_selection import train_test_split, GridSearchCV\n",
    "from sklearn.feature_selection import SelectFromModel\n",
    "from sklearn.feature_extraction.text import CountVectorizer, TfidfTransformer, TfidfVectorizer\n",
    "from sklearn.naive_bayes import MultinomialNB\n",
    "from sklearn.preprocessing import LabelEncoder\n",
    "from sklearn.pipeline import Pipeline\n",
    "from sklearn.linear_model import SGDClassifier\n",
    "from sklearn.metrics import f1_score, confusion_matrix, classification_report, adjusted_rand_score\n",
    "from sklearn.linear_model import LogisticRegression\n",
    "from sklearn.cluster import KMeans\n",
    "from sklearn.decomposition import NMF, LatentDirichletAllocation\n",
    "import warnings"
   ]
  },
  {
   "cell_type": "code",
   "execution_count": 737,
   "metadata": {
    "collapsed": true
   },
   "outputs": [],
   "source": [
    "# Add your code for task 1 here. You may use multiple cells. \n",
    "data = pd.read_csv('data.csv')\n"
   ]
  },
  {
   "cell_type": "code",
   "execution_count": 738,
   "metadata": {
    "collapsed": true
   },
   "outputs": [],
   "source": [
    "with warnings.catch_warnings():\n",
    "    warnings.simplefilter('ignore')\n",
    "    data['REQUESTTYPE'][data['REQUESTTYPE'] == \n",
    "                        \"people have to cross too many lanes / too far\"] = \\\n",
    "                        \"it's too far / too many lanes to cross\"\n",
    "    data['REQUESTTYPE'][data['REQUESTTYPE']== \n",
    "                        '\\\" src=\\\"images/01 - Not enough time to cross.png\\\"></span>&nbsp;there\\'s not enough time to cross the street'] = \\\n",
    "                        \"it's too far / too many lanes to cross\" \n",
    "    data['REQUESTTYPE'][data['REQUESTTYPE'] == \n",
    "                        \"\\\" src=\\\"images/06 - Speeding.png\\\"></span>&nbsp;people speed\"] = \\\n",
    "                        \"people speed\"\n",
    "    data['REQUESTTYPE'][data['REQUESTTYPE'] == \n",
    "                        '\" src=\"images/02 - Wait is too long.png\"></span>&nbsp;the wait for the \"Walk\" signal is too long'] = \\\n",
    "                        'the wait for the \"Walk\" signal is too long'\n",
    "    data['REQUESTTYPE'][data['REQUESTTYPE'] == \n",
    "                        '\" src=\"images/14 - Other issue.png\"></span>&nbsp;of something that is not listed here'] = \\\n",
    "                        'of something that is not listed here'\n",
    "    data['REQUESTTYPE'][data['REQUESTTYPE'] == \n",
    "                        '\" src=\"images/11 - Sidewalk issue.png\"></span>&nbsp;sidewalks/ramps don\\'t exist or need improvement'] = \\\n",
    "                        'sidewalks/ramps don\\'t exist or need improvement'\n",
    "    data['REQUESTTYPE'][data['REQUESTTYPE'] == \n",
    "                        '\" src=\"images/10 - Hard to see.png\"></span>&nbsp;it’s hard to see / low visibility'] = \\\n",
    "                        'it’s hard to see / low visibility'\n",
    "    data['REQUESTTYPE'][data['REQUESTTYPE'] == \n",
    "                        '\" src=\"images/12 - Bike facility issue.png\"></span>&nbsp;the roadway surface needs improvement'] = \\\n",
    "                        \"the roadway surface needs improvement\"\n",
    "    data['REQUESTTYPE'][data['REQUESTTYPE'] == \n",
    "                        'there are no bike facilities or they need maintenance'] = \\\n",
    "                        \"bike facilities don't exist or need improvement\"\n",
    "    data['REQUESTTYPE'][data['REQUESTTYPE'] == \n",
    "                        'the roadway surface needs maintenance'] = \\\n",
    "                        \"the roadway surface needs improvement\"\n",
    "    data['REQUESTTYPE'][data['REQUESTTYPE'] == \n",
    "                        'people have to wait too long for the \"Walk\" signal'] = \\\n",
    "                        'the wait for the \"Walk\" signal is too long'\n",
    "    data['REQUESTTYPE'][data['REQUESTTYPE'] == \n",
    "                        'there are no sidewalks or they need maintenance'] = \\\n",
    "                        'sidewalks/ramps don\\'t exist or need improvement'\n",
    "    data['REQUESTTYPE'][data['REQUESTTYPE'] == \n",
    "                        'people are not given enough time to cross the street'] = \\\n",
    "                        'there\\'s not enough time to cross the street'\n",
    "    data['REQUESTTYPE'][data['REQUESTTYPE'] == \n",
    "                        'it’s hard for people to see each other'] = \\\n",
    "                        'it’s hard to see / low visibility'"
   ]
  },
  {
   "cell_type": "code",
   "execution_count": 739,
   "metadata": {},
   "outputs": [
    {
     "data": {
      "text/plain": [
       "of something that is not listed here               1400\n",
       "bike facilities don't exist or need improvement     817\n",
       "people speed                                        742\n",
       "people run red lights / stop signs                  649\n",
       "people don't yield while turning                    452\n",
       "people double park their vehicles                   420\n",
       "it’s hard to see / low visibility                   411\n",
       "sidewalks/ramps don't exist or need improvement     339\n",
       "people don't yield while going straight             256\n",
       "people cross away from the crosswalks               255\n",
       "the roadway surface needs improvement               250\n",
       "the wait for the \"Walk\" signal is too long          227\n",
       "there's not enough time to cross the street         130\n",
       "it's too far / too many lanes to cross              109\n",
       "Name: REQUESTTYPE, dtype: int64"
      ]
     },
     "execution_count": 739,
     "metadata": {},
     "output_type": "execute_result"
    }
   ],
   "source": [
    "data = data.drop_duplicates([\"REQUESTTYPE\", \"COMMENTS\"])\n",
    "data = data.dropna(subset=['COMMENTS'])\n",
    "data['REQUESTTYPE'].value_counts()"
   ]
  },
  {
   "cell_type": "code",
   "execution_count": 740,
   "metadata": {
    "collapsed": true
   },
   "outputs": [],
   "source": [
    "other_data = data[data['REQUESTTYPE'] == 'of something that is not listed here']"
   ]
  },
  {
   "cell_type": "code",
   "execution_count": 741,
   "metadata": {},
   "outputs": [],
   "source": [
    "data = data[data['REQUESTTYPE'] != 'of something that is not listed here']"
   ]
  },
  {
   "cell_type": "code",
   "execution_count": 629,
   "metadata": {
    "collapsed": true
   },
   "outputs": [],
   "source": [
    "le=LabelEncoder()\n",
    "data['REQUESTTYPE'] = le.fit_transform(data['REQUESTTYPE'])"
   ]
  },
  {
   "cell_type": "code",
   "execution_count": 630,
   "metadata": {},
   "outputs": [
    {
     "data": {
      "text/plain": [
       "(array([  926.,   411.,   255.,   256.,   452.,  1069.,   742.,   339.,\n",
       "          250.,   357.]),\n",
       " array([  0. ,   1.2,   2.4,   3.6,   4.8,   6. ,   7.2,   8.4,   9.6,\n",
       "         10.8,  12. ]),\n",
       " <a list of 10 Patch objects>)"
      ]
     },
     "execution_count": 630,
     "metadata": {},
     "output_type": "execute_result"
    },
    {
     "data": {
      "image/png": "[encoded data removed]",
      "text/plain": [
       "<matplotlib.figure.Figure at 0x7f345d1e6588>"
      ]
     },
     "metadata": {},
     "output_type": "display_data"
    }
   ],
   "source": [
    "plt.hist(data['REQUESTTYPE'])"
   ]
  },
  {
   "cell_type": "code",
   "execution_count": 631,
   "metadata": {
    "collapsed": true
   },
   "outputs": [],
   "source": [
    "train,test = train_test_split(data[['REQUESTTYPE', 'COMMENTS']].as_matrix(), test_size=0.2)\n",
    "train_X = train[:,1]\n",
    "train_y = train[:,0].astype('float')\n",
    "test_X  = test[:,1]\n",
    "test_y  = test[:,0].astype('float')"
   ]
  },
  {
   "cell_type": "code",
   "execution_count": null,
   "metadata": {
    "collapsed": true
   },
   "outputs": [],
   "source": []
  },
  {
   "cell_type": "markdown",
   "metadata": {},
   "source": [
    "# Task2 - Model 1 [10 points]"
   ]
  },
  {
   "cell_type": "markdown",
   "metadata": {},
   "source": [
    "Run a baseline multi-class classification model using a bag-of-word approach, report macro f1-score (should be above .5) and visualize the confusion matrix. Can you interpret the mistakes made by the model? "
   ]
  },
  {
   "cell_type": "code",
   "execution_count": 632,
   "metadata": {
    "collapsed": true
   },
   "outputs": [],
   "source": [
    "# Add your code for task 2 here. You may use multiple cells. \n",
    "count_vect = CountVectorizer()\n",
    "train_X_counts = count_vect.fit_transform(train_X)\n"
   ]
  },
  {
   "cell_type": "code",
   "execution_count": 633,
   "metadata": {
    "collapsed": true
   },
   "outputs": [],
   "source": [
    "tfidf_transformer = TfidfTransformer()\n",
    "train_X_tfidf = tfidf_transformer.fit_transform(train_X_counts)\n"
   ]
  },
  {
   "cell_type": "code",
   "execution_count": 634,
   "metadata": {
    "collapsed": true
   },
   "outputs": [],
   "source": [
    "clf = MultinomialNB().fit(train_X_tfidf, train_y)"
   ]
  },
  {
   "cell_type": "code",
   "execution_count": 635,
   "metadata": {
    "collapsed": true
   },
   "outputs": [],
   "source": [
    "test_X_counts = count_vect.transform(test_X)\n",
    "test_X_tfidf  = tfidf_transformer.transform(test_X_counts)\n",
    "predicted = clf.predict(test_X_tfidf)"
   ]
  },
  {
   "cell_type": "code",
   "execution_count": 636,
   "metadata": {},
   "outputs": [
    {
     "data": {
      "text/plain": [
       "(array([  0.,   2.,   5.,   6.,   7.,   8.,   9.,  10.,  11.]),\n",
       " array([340,  31,  42,  55, 256, 275,   7,   2,   4]))"
      ]
     },
     "execution_count": 636,
     "metadata": {},
     "output_type": "execute_result"
    }
   ],
   "source": [
    "np.unique(predicted, return_counts=True)"
   ]
  },
  {
   "cell_type": "code",
   "execution_count": 637,
   "metadata": {},
   "outputs": [
    {
     "data": {
      "text/plain": [
       "(array([  0.,   1.,   2.,   3.,   4.,   5.,   6.,   7.,   8.,   9.,  10.,\n",
       "         11.,  12.]),\n",
       " array([156,  21,  89,  52,  60,  85,  84, 140, 152,  65,  41,  39,  28]))"
      ]
     },
     "execution_count": 637,
     "metadata": {},
     "output_type": "execute_result"
    }
   ],
   "source": [
    "np.unique(test_y, return_counts=True)"
   ]
  },
  {
   "cell_type": "code",
   "execution_count": 638,
   "metadata": {
    "collapsed": true
   },
   "outputs": [],
   "source": [
    "text_clf = Pipeline([('vect', CountVectorizer()),\n",
    "                     ('tfidf', TfidfTransformer()),\n",
    "                     ('clf', MultinomialNB()),])"
   ]
  },
  {
   "cell_type": "code",
   "execution_count": 639,
   "metadata": {
    "collapsed": true
   },
   "outputs": [],
   "source": [
    "text_clf = text_clf.fit(train_X, train_y)"
   ]
  },
  {
   "cell_type": "code",
   "execution_count": 640,
   "metadata": {
    "collapsed": true
   },
   "outputs": [],
   "source": [
    "predicted = text_clf.predict(test_X)"
   ]
  },
  {
   "cell_type": "code",
   "execution_count": 641,
   "metadata": {},
   "outputs": [
    {
     "data": {
      "text/plain": [
       "(array([  0.,   2.,   5.,   6.,   7.,   8.,   9.,  10.,  11.]),\n",
       " array([340,  31,  42,  55, 256, 275,   7,   2,   4]))"
      ]
     },
     "execution_count": 641,
     "metadata": {},
     "output_type": "execute_result"
    }
   ],
   "source": [
    "np.unique(predicted, return_counts=True)"
   ]
  },
  {
   "cell_type": "code",
   "execution_count": 642,
   "metadata": {},
   "outputs": [
    {
     "name": "stderr",
     "output_type": "stream",
     "text": [
      "/usr/local/lib/python3.5/dist-packages/sklearn/metrics/classification.py:1113: UndefinedMetricWarning: F-score is ill-defined and being set to 0.0 in labels with no predicted samples.\n",
      "  'precision', 'predicted', average, warn_for)\n"
     ]
    },
    {
     "data": {
      "text/plain": [
       "0.2991295609945811"
      ]
     },
     "execution_count": 642,
     "metadata": {},
     "output_type": "execute_result"
    }
   ],
   "source": [
    "f1_score(test_y, predicted, average=\"macro\")"
   ]
  },
  {
   "cell_type": "code",
   "execution_count": 643,
   "metadata": {
    "collapsed": true
   },
   "outputs": [],
   "source": [
    "text_clf = Pipeline([('vect', CountVectorizer()),\n",
    "                     ('tfidf', TfidfTransformer()),\n",
    "                     ('clf', SGDClassifier(loss='hinge', penalty='l2',\n",
    "                                           alpha=1e-3, n_iter=5, random_state=42)),])\n",
    "parameters = {'vect__ngram_range': [(1, 1)],#, (1, 2), (1,3)],\n",
    "              'tfidf__use_idf': (True, False),\n",
    "              'clf__alpha': (1e-2, 1e-3, 1e-1, 1e-4),\n",
    "}\n",
    "gs_clf = GridSearchCV(text_clf, parameters, n_jobs=8)"
   ]
  },
  {
   "cell_type": "code",
   "execution_count": null,
   "metadata": {
    "collapsed": true
   },
   "outputs": [],
   "source": []
  },
  {
   "cell_type": "code",
   "execution_count": 644,
   "metadata": {},
   "outputs": [
    {
     "data": {
      "text/plain": [
       "GridSearchCV(cv=None, error_score='raise',\n",
       "       estimator=Pipeline(steps=[('vect', CountVectorizer(analyzer='word', binary=False, decode_error='strict',\n",
       "        dtype=<class 'numpy.int64'>, encoding='utf-8', input='content',\n",
       "        lowercase=True, max_df=1.0, max_features=None, min_df=1,\n",
       "        ngram_range=(1, 1), preprocessor=None, stop_words=None,\n",
       "        strip...     penalty='l2', power_t=0.5, random_state=42, shuffle=True, verbose=0,\n",
       "       warm_start=False))]),\n",
       "       fit_params={}, iid=True, n_jobs=8,\n",
       "       param_grid={'tfidf__use_idf': (True, False), 'clf__alpha': (0.01, 0.001, 0.1, 0.0001), 'vect__ngram_range': [(1, 1)]},\n",
       "       pre_dispatch='2*n_jobs', refit=True, return_train_score=True,\n",
       "       scoring=None, verbose=0)"
      ]
     },
     "execution_count": 644,
     "metadata": {},
     "output_type": "execute_result"
    }
   ],
   "source": [
    "gs_clf.fit(train_X, train_y)"
   ]
  },
  {
   "cell_type": "code",
   "execution_count": 645,
   "metadata": {},
   "outputs": [
    {
     "data": {
      "text/plain": [
       "{'clf__alpha': 0.001, 'tfidf__use_idf': True, 'vect__ngram_range': (1, 1)}"
      ]
     },
     "execution_count": 645,
     "metadata": {},
     "output_type": "execute_result"
    }
   ],
   "source": [
    "gs_clf.best_params_"
   ]
  },
  {
   "cell_type": "code",
   "execution_count": null,
   "metadata": {
    "collapsed": true
   },
   "outputs": [],
   "source": []
  },
  {
   "cell_type": "code",
   "execution_count": 646,
   "metadata": {
    "collapsed": true
   },
   "outputs": [],
   "source": [
    "predicted = gs_clf.predict(test_X)"
   ]
  },
  {
   "cell_type": "code",
   "execution_count": 647,
   "metadata": {},
   "outputs": [
    {
     "data": {
      "text/plain": [
       "(array([  0.,   2.,   3.,   4.,   5.,   6.,   7.,   8.,   9.,  10.,  11.,\n",
       "         12.]),\n",
       " array([209, 102,  34,  20,  56,  95, 176, 165,  67,  32,  51,   5]))"
      ]
     },
     "execution_count": 647,
     "metadata": {},
     "output_type": "execute_result"
    }
   ],
   "source": [
    "np.unique(predicted, return_counts=True)"
   ]
  },
  {
   "cell_type": "code",
   "execution_count": 648,
   "metadata": {},
   "outputs": [
    {
     "data": {
      "text/plain": [
       "0.66403162055335974"
      ]
     },
     "execution_count": 648,
     "metadata": {},
     "output_type": "execute_result"
    }
   ],
   "source": [
    "np.mean(predicted == test_y)"
   ]
  },
  {
   "cell_type": "code",
   "execution_count": null,
   "metadata": {
    "collapsed": true
   },
   "outputs": [],
   "source": []
  },
  {
   "cell_type": "code",
   "execution_count": 649,
   "metadata": {},
   "outputs": [
    {
     "name": "stderr",
     "output_type": "stream",
     "text": [
      "/usr/local/lib/python3.5/dist-packages/sklearn/metrics/classification.py:1113: UndefinedMetricWarning: F-score is ill-defined and being set to 0.0 in labels with no predicted samples.\n",
      "  'precision', 'predicted', average, warn_for)\n"
     ]
    },
    {
     "data": {
      "text/plain": [
       "0.55201370324903987"
      ]
     },
     "execution_count": 649,
     "metadata": {},
     "output_type": "execute_result"
    }
   ],
   "source": [
    "f1_score(test_y, predicted, average=\"macro\")"
   ]
  },
  {
   "cell_type": "code",
   "execution_count": 650,
   "metadata": {},
   "outputs": [
    {
     "data": {
      "text/plain": [
       "array([[139,   0,   3,   0,   0,   0,   4,   1,   2,   4,   1,   2,   0],\n",
       "       [  4,   0,   2,   0,   0,   3,   0,   1,   3,   3,   1,   4,   0],\n",
       "       [  4,   0,  63,   0,   0,   1,   6,   3,   8,   2,   1,   1,   0],\n",
       "       [  4,   0,   0,  28,   1,   0,   3,   5,   4,   4,   0,   3,   0],\n",
       "       [  6,   0,  10,   1,  13,   6,   2,   9,  11,   1,   0,   1,   0],\n",
       "       [  9,   0,  10,   1,   2,  34,   2,  12,   9,   2,   1,   3,   0],\n",
       "       [  9,   0,   2,   0,   0,   0,  72,   0,   0,   1,   0,   0,   0],\n",
       "       [  2,   0,   1,   1,   1,   0,   1, 119,  13,   0,   0,   2,   0],\n",
       "       [ 10,   0,   4,   0,   3,   7,   2,  10, 111,   2,   1,   2,   0],\n",
       "       [  9,   0,   0,   1,   0,   0,   2,   2,   2,  44,   1,   4,   0],\n",
       "       [ 10,   0,   3,   1,   0,   0,   0,   1,   0,   1,  25,   0,   0],\n",
       "       [  2,   0,   2,   0,   0,   1,   1,   9,   1,   2,   0,  20,   1],\n",
       "       [  1,   0,   2,   1,   0,   4,   0,   4,   1,   1,   1,   9,   4]])"
      ]
     },
     "execution_count": 650,
     "metadata": {},
     "output_type": "execute_result"
    }
   ],
   "source": [
    "confusion_matrix(test_y, predicted)"
   ]
  },
  {
   "cell_type": "code",
   "execution_count": 651,
   "metadata": {},
   "outputs": [
    {
     "name": "stdout",
     "output_type": "stream",
     "text": [
      "             precision    recall  f1-score   support\n",
      "\n",
      "        0.0       0.67      0.89      0.76       156\n",
      "        1.0       0.00      0.00      0.00        21\n",
      "        2.0       0.62      0.71      0.66        89\n",
      "        3.0       0.82      0.54      0.65        52\n",
      "        4.0       0.65      0.22      0.33        60\n",
      "        5.0       0.61      0.40      0.48        85\n",
      "        6.0       0.76      0.86      0.80        84\n",
      "        7.0       0.68      0.85      0.75       140\n",
      "        8.0       0.67      0.73      0.70       152\n",
      "        9.0       0.66      0.68      0.67        65\n",
      "       10.0       0.78      0.61      0.68        41\n",
      "       11.0       0.39      0.51      0.44        39\n",
      "       12.0       0.80      0.14      0.24        28\n",
      "\n",
      "avg / total       0.66      0.66      0.64      1012\n",
      "\n"
     ]
    },
    {
     "name": "stderr",
     "output_type": "stream",
     "text": [
      "/usr/local/lib/python3.5/dist-packages/sklearn/metrics/classification.py:1113: UndefinedMetricWarning: Precision and F-score are ill-defined and being set to 0.0 in labels with no predicted samples.\n",
      "  'precision', 'predicted', average, warn_for)\n"
     ]
    }
   ],
   "source": [
    "print(classification_report(test_y, predicted))"
   ]
  },
  {
   "cell_type": "code",
   "execution_count": 653,
   "metadata": {},
   "outputs": [],
   "source": [
    "df_cm = pd.DataFrame(confusion_matrix(test_y, predicted), index = range(0,13),\n",
    "                  columns = range(0,13))"
   ]
  },
  {
   "cell_type": "code",
   "execution_count": 654,
   "metadata": {},
   "outputs": [
    {
     "data": {
      "text/plain": [
       "<matplotlib.axes._subplots.AxesSubplot at 0x7f345528f278>"
      ]
     },
     "execution_count": 654,
     "metadata": {},
     "output_type": "execute_result"
    },
    {
     "data": {
      "image/png": "[encoded data removed]",
      "text/plain": [
       "<matplotlib.figure.Figure at 0x7f345528fbe0>"
      ]
     },
     "metadata": {},
     "output_type": "display_data"
    }
   ],
   "source": [
    "plt.figure(figsize = (13,10))\n",
    "sn.heatmap(df_cm, annot=True)"
   ]
  },
  {
   "cell_type": "code",
   "execution_count": null,
   "metadata": {
    "collapsed": true
   },
   "outputs": [],
   "source": []
  },
  {
   "cell_type": "markdown",
   "metadata": {},
   "source": [
    "# Task3 - Model 2 [30 points]"
   ]
  },
  {
   "cell_type": "markdown",
   "metadata": {},
   "source": [
    "Improve the model using more complex text features, including n-grams, character n-grams and possibly domain-specific features."
   ]
  },
  {
   "cell_type": "markdown",
   "metadata": {},
   "source": [
    "### Stochastic Gradient Descent w/ n-grams"
   ]
  },
  {
   "cell_type": "code",
   "execution_count": 655,
   "metadata": {
    "collapsed": true
   },
   "outputs": [],
   "source": [
    "# Add your code for task 3 here. You may use multiple cells. \n",
    "text_clf = Pipeline([('vect', CountVectorizer()),\n",
    "                     ('tfidf', TfidfTransformer()),\n",
    "                     ('clf', SGDClassifier(loss='hinge', penalty='l2',\n",
    "                                           n_iter=5, random_state=42)),])\n",
    "parameters = {'vect__ngram_range': [(1, 2), (1,3), (1,4)],\n",
    "#               'vect__stop_words': (None, \"english\"),\n",
    "              'tfidf__use_idf': (True, False),\n",
    "#               'vect__min_df': (1,2,3),\n",
    "#               'vect__max_features': (None,3,4),\n",
    "              'clf__alpha': (1e-2, 1e-3, 1e-1, 1e-4),\n",
    "}\n",
    "gs_clf = GridSearchCV(text_clf, parameters, cv=5, n_jobs=8)\n"
   ]
  },
  {
   "cell_type": "code",
   "execution_count": 656,
   "metadata": {},
   "outputs": [
    {
     "data": {
      "text/plain": [
       "GridSearchCV(cv=5, error_score='raise',\n",
       "       estimator=Pipeline(steps=[('vect', CountVectorizer(analyzer='word', binary=False, decode_error='strict',\n",
       "        dtype=<class 'numpy.int64'>, encoding='utf-8', input='content',\n",
       "        lowercase=True, max_df=1.0, max_features=None, min_df=1,\n",
       "        ngram_range=(1, 1), preprocessor=None, stop_words=None,\n",
       "        strip...     penalty='l2', power_t=0.5, random_state=42, shuffle=True, verbose=0,\n",
       "       warm_start=False))]),\n",
       "       fit_params={}, iid=True, n_jobs=8,\n",
       "       param_grid={'tfidf__use_idf': (True, False), 'clf__alpha': (0.01, 0.001, 0.1, 0.0001), 'vect__ngram_range': [(1, 2), (1, 3), (1, 4)]},\n",
       "       pre_dispatch='2*n_jobs', refit=True, return_train_score=True,\n",
       "       scoring=None, verbose=0)"
      ]
     },
     "execution_count": 656,
     "metadata": {},
     "output_type": "execute_result"
    }
   ],
   "source": [
    "gs_clf.fit(train_X, train_y)"
   ]
  },
  {
   "cell_type": "code",
   "execution_count": 657,
   "metadata": {},
   "outputs": [
    {
     "data": {
      "text/plain": [
       "{'clf__alpha': 0.0001, 'tfidf__use_idf': True, 'vect__ngram_range': (1, 3)}"
      ]
     },
     "execution_count": 657,
     "metadata": {},
     "output_type": "execute_result"
    }
   ],
   "source": [
    "gs_clf.best_params_"
   ]
  },
  {
   "cell_type": "code",
   "execution_count": 658,
   "metadata": {
    "collapsed": true
   },
   "outputs": [],
   "source": [
    "predicted = gs_clf.predict(test_X)"
   ]
  },
  {
   "cell_type": "code",
   "execution_count": 659,
   "metadata": {},
   "outputs": [
    {
     "data": {
      "text/plain": [
       "0.69169960474308301"
      ]
     },
     "execution_count": 659,
     "metadata": {},
     "output_type": "execute_result"
    }
   ],
   "source": [
    "np.mean(predicted == test_y)"
   ]
  },
  {
   "cell_type": "code",
   "execution_count": 660,
   "metadata": {},
   "outputs": [
    {
     "data": {
      "text/plain": [
       "0.60855868525686696"
      ]
     },
     "execution_count": 660,
     "metadata": {},
     "output_type": "execute_result"
    }
   ],
   "source": [
    "f1_score(test_y, predicted, average=\"macro\")"
   ]
  },
  {
   "cell_type": "markdown",
   "metadata": {},
   "source": [
    "### Logistic Regression w/ n-grams"
   ]
  },
  {
   "cell_type": "code",
   "execution_count": 661,
   "metadata": {
    "collapsed": true
   },
   "outputs": [],
   "source": [
    "# Add your code for task 3 here. You may use multiple cells. \n",
    "text_clf = Pipeline([('vect', CountVectorizer()),\n",
    "                     ('tfidf', TfidfTransformer()),\n",
    "                     ('clf', LogisticRegression()),])\n",
    "parameters = {'vect__ngram_range': [(1, 2), (1,3), (1,4)],\n",
    "#               'vect__stop_words': (None, \"english\"),\n",
    "              'tfidf__use_idf': (True, False),\n",
    "#               'vect__min_df': (1,2,3),\n",
    "#               'vect__max_features': (None,3,4),\n",
    "              'clf__class_weight': ['balanced', None],\n",
    "              'clf__C': np.logspace(-3, 2, 6)\n",
    "}\n",
    "gs_clf = GridSearchCV(text_clf, parameters, cv=5, n_jobs=8)\n"
   ]
  },
  {
   "cell_type": "code",
   "execution_count": 662,
   "metadata": {},
   "outputs": [
    {
     "data": {
      "text/plain": [
       "GridSearchCV(cv=5, error_score='raise',\n",
       "       estimator=Pipeline(steps=[('vect', CountVectorizer(analyzer='word', binary=False, decode_error='strict',\n",
       "        dtype=<class 'numpy.int64'>, encoding='utf-8', input='content',\n",
       "        lowercase=True, max_df=1.0, max_features=None, min_df=1,\n",
       "        ngram_range=(1, 1), preprocessor=None, stop_words=None,\n",
       "        strip...ty='l2', random_state=None, solver='liblinear', tol=0.0001,\n",
       "          verbose=0, warm_start=False))]),\n",
       "       fit_params={}, iid=True, n_jobs=8,\n",
       "       param_grid={'tfidf__use_idf': (True, False), 'clf__class_weight': ['balanced', None], 'clf__C': array([  1.00000e-03,   1.00000e-02,   1.00000e-01,   1.00000e+00,\n",
       "         1.00000e+01,   1.00000e+02]), 'vect__ngram_range': [(1, 2), (1, 3), (1, 4)]},\n",
       "       pre_dispatch='2*n_jobs', refit=True, return_train_score=True,\n",
       "       scoring=None, verbose=0)"
      ]
     },
     "execution_count": 662,
     "metadata": {},
     "output_type": "execute_result"
    }
   ],
   "source": [
    "gs_clf.fit(train_X, train_y)"
   ]
  },
  {
   "cell_type": "code",
   "execution_count": 663,
   "metadata": {},
   "outputs": [
    {
     "data": {
      "text/plain": [
       "{'clf__C': 100.0,\n",
       " 'clf__class_weight': None,\n",
       " 'tfidf__use_idf': True,\n",
       " 'vect__ngram_range': (1, 3)}"
      ]
     },
     "execution_count": 663,
     "metadata": {},
     "output_type": "execute_result"
    }
   ],
   "source": [
    "gs_clf.best_params_"
   ]
  },
  {
   "cell_type": "code",
   "execution_count": 664,
   "metadata": {
    "collapsed": true
   },
   "outputs": [],
   "source": [
    "predicted = gs_clf.predict(test_X)"
   ]
  },
  {
   "cell_type": "code",
   "execution_count": 665,
   "metadata": {},
   "outputs": [
    {
     "data": {
      "text/plain": [
       "0.68675889328063244"
      ]
     },
     "execution_count": 665,
     "metadata": {},
     "output_type": "execute_result"
    }
   ],
   "source": [
    "np.mean(predicted == test_y)"
   ]
  },
  {
   "cell_type": "code",
   "execution_count": 666,
   "metadata": {},
   "outputs": [
    {
     "data": {
      "text/plain": [
       "0.61437517068523917"
      ]
     },
     "execution_count": 666,
     "metadata": {},
     "output_type": "execute_result"
    }
   ],
   "source": [
    "f1_score(test_y, predicted, average=\"macro\")"
   ]
  },
  {
   "cell_type": "markdown",
   "metadata": {},
   "source": [
    "# Task4 - Visualize Results [10 points]"
   ]
  },
  {
   "cell_type": "markdown",
   "metadata": {},
   "source": [
    "Visualize results of the tuned model (classification results, confusion matrix, important features, example mistakes)."
   ]
  },
  {
   "cell_type": "code",
   "execution_count": 391,
   "metadata": {
    "collapsed": true
   },
   "outputs": [],
   "source": [
    "# Add your code for task 4 here. You may use multiple cells. \n"
   ]
  },
  {
   "cell_type": "code",
   "execution_count": 668,
   "metadata": {},
   "outputs": [],
   "source": [
    "df_cm = pd.DataFrame(confusion_matrix(test_y, predicted), index = range(0,13),\n",
    "                  columns = range(0,13))"
   ]
  },
  {
   "cell_type": "code",
   "execution_count": 669,
   "metadata": {},
   "outputs": [
    {
     "data": {
      "text/plain": [
       "<matplotlib.axes._subplots.AxesSubplot at 0x7f3455439908>"
      ]
     },
     "execution_count": 669,
     "metadata": {},
     "output_type": "execute_result"
    },
    {
     "data": {
      "image/png": "[encoded data removed]",
      "text/plain": [
       "<matplotlib.figure.Figure at 0x7f3455426128>"
      ]
     },
     "metadata": {},
     "output_type": "display_data"
    }
   ],
   "source": [
    "plt.figure(figsize = (13,10))\n",
    "sn.heatmap(df_cm, annot=True)"
   ]
  },
  {
   "cell_type": "code",
   "execution_count": 670,
   "metadata": {},
   "outputs": [
    {
     "name": "stdout",
     "output_type": "stream",
     "text": [
      "             precision    recall  f1-score   support\n",
      "\n",
      "        0.0       0.73      0.85      0.78       156\n",
      "        1.0       1.00      0.14      0.25        21\n",
      "        2.0       0.70      0.72      0.71        89\n",
      "        3.0       0.69      0.67      0.68        52\n",
      "        4.0       0.50      0.30      0.37        60\n",
      "        5.0       0.55      0.54      0.54        85\n",
      "        6.0       0.83      0.90      0.86        84\n",
      "        7.0       0.71      0.81      0.76       140\n",
      "        8.0       0.69      0.70      0.69       152\n",
      "        9.0       0.65      0.63      0.64        65\n",
      "       10.0       0.87      0.66      0.75        41\n",
      "       11.0       0.52      0.59      0.55        39\n",
      "       12.0       0.47      0.32      0.38        28\n",
      "\n",
      "avg / total       0.69      0.69      0.68      1012\n",
      "\n"
     ]
    }
   ],
   "source": [
    "print(classification_report(test_y, predicted))"
   ]
  },
  {
   "cell_type": "code",
   "execution_count": 413,
   "metadata": {},
   "outputs": [
    {
     "data": {
      "text/plain": [
       "array([[-0.24370645, -0.02803455, -0.01477686, ..., -0.04146295,\n",
       "        -0.08097439, -0.08097439],\n",
       "       [-0.16533475, -0.0356613 , -0.02244552, ..., -0.03479055,\n",
       "        -0.01407404, -0.01407404],\n",
       "       [-0.17037122, -0.01695982, -0.01268725, ..., -0.03915281,\n",
       "        -0.03243618, -0.03243618],\n",
       "       ..., \n",
       "       [-0.17588459, -0.01864921, -0.02149174, ..., -0.04585397,\n",
       "        -0.03057919, -0.03057919],\n",
       "       [-0.13631394, -0.02063532, -0.00883359, ..., -0.01098559,\n",
       "        -0.04926277, -0.04926277],\n",
       "       [-0.11844567, -0.02911869, -0.00925345, ..., -0.02466827,\n",
       "        -0.01231101, -0.01231101]])"
      ]
     },
     "execution_count": 413,
     "metadata": {},
     "output_type": "execute_result"
    }
   ],
   "source": [
    "gs_clf.best_estimator_.steps[2][1].coef_"
   ]
  },
  {
   "cell_type": "code",
   "execution_count": 671,
   "metadata": {},
   "outputs": [
    {
     "data": {
      "text/plain": [
       "LogisticRegression(C=100.0, class_weight=None, dual=False, fit_intercept=True,\n",
       "          intercept_scaling=1, max_iter=100, multi_class='ovr', n_jobs=1,\n",
       "          penalty='l2', random_state=None, solver='liblinear', tol=0.0001,\n",
       "          verbose=0, warm_start=False)"
      ]
     },
     "execution_count": 671,
     "metadata": {},
     "output_type": "execute_result"
    }
   ],
   "source": [
    "count_vect = CountVectorizer(ngram_range=(1, 3))\n",
    "train_X_counts = count_vect.fit_transform(train_X)\n",
    "tfidf_transformer = TfidfTransformer(use_idf= True)\n",
    "train_X_tfidf = tfidf_transformer.fit_transform(train_X_counts)\n",
    "clf = LogisticRegression(C=100.0, class_weight=None)\n",
    "clf.fit(train_X_tfidf, train_y)\n"
   ]
  },
  {
   "cell_type": "code",
   "execution_count": null,
   "metadata": {},
   "outputs": [],
   "source": []
  },
  {
   "cell_type": "code",
   "execution_count": 672,
   "metadata": {},
   "outputs": [],
   "source": [
    "model = SelectFromModel(clf, prefit=True)\n",
    "new_X = model.transform(train_X_tfidf)"
   ]
  },
  {
   "cell_type": "code",
   "execution_count": null,
   "metadata": {},
   "outputs": [],
   "source": []
  },
  {
   "cell_type": "markdown",
   "metadata": {},
   "source": [
    "# Task5 - Clustering [10 points]"
   ]
  },
  {
   "cell_type": "markdown",
   "metadata": {},
   "source": [
    "Apply LDA, NMF and K-Means to the whole dataset. Can you find clusters or topics that match well with some of the ground truth labels? Use ARI to compare the methods and visualize topics and clusters."
   ]
  },
  {
   "cell_type": "markdown",
   "metadata": {},
   "source": [
    "### K-Means Clustering"
   ]
  },
  {
   "cell_type": "code",
   "execution_count": 675,
   "metadata": {},
   "outputs": [],
   "source": [
    "# Add your code for task 5 here. You may use multiple cells.\n",
    "X = data['COMMENTS'].as_matrix()\n",
    "y = data['REQUESTTYPE'].as_matrix()"
   ]
  },
  {
   "cell_type": "code",
   "execution_count": 676,
   "metadata": {},
   "outputs": [
    {
     "data": {
      "text/plain": [
       "(13,)"
      ]
     },
     "execution_count": 676,
     "metadata": {},
     "output_type": "execute_result"
    }
   ],
   "source": [
    "np.unique(y).shape"
   ]
  },
  {
   "cell_type": "code",
   "execution_count": 677,
   "metadata": {},
   "outputs": [],
   "source": [
    "km = KMeans(n_clusters=13, random_state=0, n_jobs=8, max_iter=500)"
   ]
  },
  {
   "cell_type": "code",
   "execution_count": 678,
   "metadata": {},
   "outputs": [],
   "source": [
    "# count_vect = CountVectorizer(ngram_range=(1, 2))\n",
    "# X_counts = count_vect.fit_transform(X)\n",
    "tfidf_vect = TfidfVectorizer(use_idf= True, max_df=0.5, min_df=2, stop_words='english')\n",
    "X_tfidf = tfidf_vect.fit_transform(X)\n"
   ]
  },
  {
   "cell_type": "code",
   "execution_count": null,
   "metadata": {},
   "outputs": [],
   "source": []
  },
  {
   "cell_type": "code",
   "execution_count": 679,
   "metadata": {},
   "outputs": [
    {
     "data": {
      "text/plain": [
       "KMeans(algorithm='auto', copy_x=True, init='k-means++', max_iter=500,\n",
       "    n_clusters=13, n_init=10, n_jobs=8, precompute_distances='auto',\n",
       "    random_state=0, tol=0.0001, verbose=0)"
      ]
     },
     "execution_count": 679,
     "metadata": {},
     "output_type": "execute_result"
    }
   ],
   "source": [
    "km.fit(X_tfidf)"
   ]
  },
  {
   "cell_type": "code",
   "execution_count": 680,
   "metadata": {},
   "outputs": [
    {
     "data": {
      "text/plain": [
       "(array([ 0,  1,  2,  3,  4,  5,  6,  7,  8,  9, 10, 11, 12], dtype=int32),\n",
       " array([ 311,  450,  229,  352,  275,  460,  310, 1446,  120,  220,  351,\n",
       "         244,  289]))"
      ]
     },
     "execution_count": 680,
     "metadata": {},
     "output_type": "execute_result"
    }
   ],
   "source": [
    "np.unique(km.labels_, return_counts=True)"
   ]
  },
  {
   "cell_type": "code",
   "execution_count": 681,
   "metadata": {},
   "outputs": [
    {
     "data": {
      "text/plain": [
       "(array([ 0,  1,  2,  3,  4,  5,  6,  7,  8,  9, 10, 11, 12]),\n",
       " array([817, 109, 411, 255, 256, 452, 420, 649, 742, 339, 250, 227, 130]))"
      ]
     },
     "execution_count": 681,
     "metadata": {},
     "output_type": "execute_result"
    }
   ],
   "source": [
    "np.unique(y, return_counts=True)"
   ]
  },
  {
   "cell_type": "code",
   "execution_count": 682,
   "metadata": {},
   "outputs": [
    {
     "data": {
      "text/plain": [
       "0.12665409327335392"
      ]
     },
     "execution_count": 682,
     "metadata": {},
     "output_type": "execute_result"
    }
   ],
   "source": [
    "adjusted_rand_score(labels_pred=km.labels_, labels_true=y)"
   ]
  },
  {
   "cell_type": "markdown",
   "metadata": {},
   "source": [
    "### NMF Clustering"
   ]
  },
  {
   "cell_type": "code",
   "execution_count": 484,
   "metadata": {
    "collapsed": true
   },
   "outputs": [],
   "source": [
    "def print_top_words(model, feature_names, n_top_words):\n",
    "    for topic_idx, topic in enumerate(model.components_):\n",
    "        print(\"Topic #%d:\" % topic_idx)\n",
    "        print(\" \".join([feature_names[i]\n",
    "                        for i in topic.argsort()[:-n_top_words - 1:-1]]))\n",
    "    print()"
   ]
  },
  {
   "cell_type": "code",
   "execution_count": 683,
   "metadata": {
    "collapsed": true
   },
   "outputs": [],
   "source": [
    "nmf = NMF(n_components=13, init='random', random_state=0)#, alpha=0.1, l1_ratio=0.5)"
   ]
  },
  {
   "cell_type": "code",
   "execution_count": 684,
   "metadata": {},
   "outputs": [
    {
     "data": {
      "text/plain": [
       "NMF(alpha=0.0, beta=1, eta=0.1, init='random', l1_ratio=0.0, max_iter=200,\n",
       "  n_components=13, nls_max_iter=2000, random_state=0, shuffle=False,\n",
       "  solver='cd', sparseness=None, tol=0.0001, verbose=0)"
      ]
     },
     "execution_count": 684,
     "metadata": {},
     "output_type": "execute_result"
    }
   ],
   "source": [
    "nmf.fit(X_tfidf)"
   ]
  },
  {
   "cell_type": "code",
   "execution_count": 685,
   "metadata": {},
   "outputs": [
    {
     "data": {
      "text/plain": [
       "(13, 2915)"
      ]
     },
     "execution_count": 685,
     "metadata": {},
     "output_type": "execute_result"
    }
   ],
   "source": [
    "np.mean(nmf.components_, 0).shape\n",
    "nmf.components_.shape"
   ]
  },
  {
   "cell_type": "code",
   "execution_count": 615,
   "metadata": {
    "collapsed": true
   },
   "outputs": [
    {
     "name": "stdout",
     "output_type": "stream",
     "text": [
      "Topic #0:\n",
      "cars parked coming hard turning difficult road bikes corner speeding\n",
      "Topic #1:\n",
      "speed high cut street road drivers limit area bumps children\n",
      "Topic #2:\n",
      "light red run lights green drivers running time turns pedestrian\n",
      "Topic #3:\n",
      "crosswalk pedestrians yield drivers don turning crossing ignore right crosswalks\n",
      "Topic #4:\n",
      "street way wrong drive fast narrow sidewalk wide sides road\n",
      "Topic #5:\n",
      "bike lanes facilities path needs need space sharrows road protected\n",
      "Topic #6:\n",
      "turn left right turning straight make turns arrow traffic ave\n",
      "Topic #7:\n",
      "walk cross signal long wait time pedestrians takes signals pedestrian\n",
      "Topic #8:\n",
      "intersection dangerous traffic block lights crosswalks confusing needs pedestrian crossing\n",
      "Topic #9:\n",
      "park double parking lot vehicles traffic parked sidewalk bus area\n",
      "Topic #10:\n",
      "stop sign signs bus stops run don drivers rarely needs\n",
      "Topic #11:\n",
      "lane bike right markings straight need drivers travel disappears road\n",
      "Topic #12:\n",
      "st washington ave need south traffic coming beacon crossing cycle\n",
      "Topic #13:\n",
      "people drive fast don driving cross crosswalk fly park going\n",
      "\n"
     ]
    }
   ],
   "source": [
    "print_top_words(nmf, tfidf_vect.get_feature_names(), 10)"
   ]
  },
  {
   "cell_type": "code",
   "execution_count": 533,
   "metadata": {},
   "outputs": [
    {
     "data": {
      "text/plain": [
       "0.00090941959556855559"
      ]
     },
     "execution_count": 533,
     "metadata": {},
     "output_type": "execute_result"
    }
   ],
   "source": [
    "np.mean(X_tfidf)"
   ]
  },
  {
   "cell_type": "code",
   "execution_count": 544,
   "metadata": {},
   "outputs": [
    {
     "data": {
      "text/plain": [
       "2.99429188091649"
      ]
     },
     "execution_count": 544,
     "metadata": {},
     "output_type": "execute_result"
    }
   ],
   "source": [
    "np.max(nmf.components_)"
   ]
  },
  {
   "cell_type": "code",
   "execution_count": 686,
   "metadata": {},
   "outputs": [],
   "source": [
    "preds = np.argmax(nmf.transform(X_tfidf), 1)"
   ]
  },
  {
   "cell_type": "code",
   "execution_count": 687,
   "metadata": {},
   "outputs": [
    {
     "data": {
      "text/plain": [
       "0.13086165409287123"
      ]
     },
     "execution_count": 687,
     "metadata": {},
     "output_type": "execute_result"
    }
   ],
   "source": [
    "adjusted_rand_score(labels_pred=preds, labels_true=y)"
   ]
  },
  {
   "cell_type": "markdown",
   "metadata": {},
   "source": [
    "### Latent Dirichlet Allocation"
   ]
  },
  {
   "cell_type": "code",
   "execution_count": 688,
   "metadata": {
    "collapsed": true
   },
   "outputs": [],
   "source": [
    "lda = LatentDirichletAllocation(n_topics=10, max_iter=100, learning_method='batch',learning_offset=20.,random_state=0, n_jobs=8)\n",
    "\n"
   ]
  },
  {
   "cell_type": "code",
   "execution_count": 689,
   "metadata": {
    "collapsed": true
   },
   "outputs": [],
   "source": [
    "tf_vectorizer = CountVectorizer(max_df=0.95, min_df=2,stop_words='english')"
   ]
  },
  {
   "cell_type": "code",
   "execution_count": 690,
   "metadata": {
    "collapsed": true
   },
   "outputs": [],
   "source": [
    "tf = tf_vectorizer.fit_transform(X)"
   ]
  },
  {
   "cell_type": "code",
   "execution_count": 691,
   "metadata": {},
   "outputs": [
    {
     "data": {
      "text/plain": [
       "LatentDirichletAllocation(batch_size=128, doc_topic_prior=None,\n",
       "             evaluate_every=-1, learning_decay=0.7,\n",
       "             learning_method='batch', learning_offset=20.0,\n",
       "             max_doc_update_iter=100, max_iter=100, mean_change_tol=0.001,\n",
       "             n_jobs=8, n_topics=10, perp_tol=0.1, random_state=0,\n",
       "             topic_word_prior=None, total_samples=1000000.0, verbose=0)"
      ]
     },
     "execution_count": 691,
     "metadata": {},
     "output_type": "execute_result"
    }
   ],
   "source": [
    "lda.fit(tf)"
   ]
  },
  {
   "cell_type": "code",
   "execution_count": 695,
   "metadata": {
    "collapsed": true
   },
   "outputs": [],
   "source": [
    "preds = np.argmax(lda.transform(tf), 1)"
   ]
  },
  {
   "cell_type": "code",
   "execution_count": 696,
   "metadata": {},
   "outputs": [
    {
     "data": {
      "text/plain": [
       "0.15996141342817782"
      ]
     },
     "execution_count": 696,
     "metadata": {},
     "output_type": "execute_result"
    }
   ],
   "source": [
    "adjusted_rand_score(labels_pred=preds, labels_true=y)"
   ]
  },
  {
   "cell_type": "code",
   "execution_count": 692,
   "metadata": {},
   "outputs": [
    {
     "name": "stdout",
     "output_type": "stream",
     "text": [
      "Topic #0:\n",
      "speed people street st cut traffic cars corner high area\n",
      "Topic #1:\n",
      "crosswalk pedestrians cross yield crossing people don drivers crosswalks street\n",
      "Topic #2:\n",
      "bike lane lanes traffic need road bikes dangerous facilities protected\n",
      "Topic #3:\n",
      "turn right left turning st ave cars drivers traffic intersection\n",
      "Topic #4:\n",
      "stop sign bus signs school way drivers intersection cars stops\n",
      "Topic #5:\n",
      "bike sidewalk lane path needs bridge street ramp walk pavement\n",
      "Topic #6:\n",
      "cars park double parking parked people street traffic lane vehicles\n",
      "Topic #7:\n",
      "light walk cross red people signal run time cars long\n",
      "Topic #8:\n",
      "street road cars way people fast hill drive dangerous speeding\n",
      "Topic #9:\n",
      "traffic rush hour st street narrow trucks cars use morning\n",
      "\n"
     ]
    }
   ],
   "source": [
    "print_top_words(lda, tf_vectorizer.get_feature_names(), 10)"
   ]
  },
  {
   "cell_type": "raw",
   "metadata": {},
   "source": [
    "bike facilities don't exist or need improvement     817\n",
    "people speed                                        742\n",
    "people run red lights / stop signs                  649\n",
    "people don't yield while turning                    452\n",
    "people double park their vehicles                   420\n",
    "it’s hard to see / low visibility                   411\n",
    "sidewalks/ramps don't exist or need improvement     339\n",
    "people don't yield while going straight             256\n",
    "people cross away from the crosswalks               255\n",
    "the roadway surface needs improvement               250\n",
    "the wait for the \"Walk\" signal is too long          227\n",
    "there's not enough time to cross the street         130\n",
    "it's too far / too many lanes to cross              109"
   ]
  },
  {
   "cell_type": "raw",
   "metadata": {},
   "source": [
    "Topic #3:\n",
    "turn right left turning st ave cars drivers traffic intersection\n",
    "===========\n",
    "people don't yield while turning                    452"
   ]
  },
  {
   "cell_type": "raw",
   "metadata": {},
   "source": [
    "Topic #1:\n",
    "crosswalk pedestrians cross yield crossing people don drivers crosswalks street\n",
    "===========\n",
    "people cross away from the crosswalks               255"
   ]
  },
  {
   "cell_type": "raw",
   "metadata": {},
   "source": [
    "Topic #2:\n",
    "bike lane lanes traffic need road bikes dangerous facilities protected\n",
    "===========\n",
    "bike facilities don't exist or need improvement     817"
   ]
  },
  {
   "cell_type": "raw",
   "metadata": {},
   "source": [
    "Topic #7:\n",
    "light walk cross red people signal run time cars long\n",
    "===========\n",
    "the wait for the \"Walk\" signal is too long          227"
   ]
  },
  {
   "cell_type": "raw",
   "metadata": {},
   "source": [
    "Topic #8:\n",
    "street road cars way people fast hill drive dangerous speeding\n",
    "Topic #0:\n",
    "speed people street st cut traffic cars corner high area\n",
    "===========\n",
    "people speed                                        742"
   ]
  },
  {
   "cell_type": "raw",
   "metadata": {},
   "source": [
    "Topic #9:\n",
    "traffic rush hour st street narrow trucks cars use morning\n",
    "===========\n",
    "NEW TOPIC: too much traffic during rush hour"
   ]
  },
  {
   "cell_type": "raw",
   "metadata": {},
   "source": [
    "Topic #5:\n",
    "bike sidewalk lane path needs bridge street ramp walk pavement\n",
    "===========\n",
    "sidewalks/ramps don't exist or need improvement     339"
   ]
  },
  {
   "cell_type": "raw",
   "metadata": {},
   "source": [
    "Topic #6:\n",
    "cars park double parking parked people street traffic lane vehicles\n",
    "===========\n",
    "people double park their vehicles                   420"
   ]
  },
  {
   "cell_type": "raw",
   "metadata": {},
   "source": [
    "Topic #4:\n",
    "stop sign bus signs school way drivers intersection cars stops\n",
    "===========\n",
    "people run red lights / stop signs                  649"
   ]
  },
  {
   "cell_type": "code",
   "execution_count": null,
   "metadata": {},
   "outputs": [],
   "source": []
  },
  {
   "cell_type": "markdown",
   "metadata": {},
   "source": [
    "# Task6 - Model 3 [30 points]"
   ]
  },
  {
   "cell_type": "markdown",
   "metadata": {},
   "source": [
    "Improve the class definition for REQUESTTYPE by using the results of the clustering and results of the previous classification model. Re-assign labels using either the results of clustering or using keywords that you found during data exploration. The labels must be semantically meaningful.\n",
    "The data has a large “other” category. Apply the topic modeling and clustering techniques to this subset of the data to find possible splits of this class.\n",
    "Report accuracy using macro average f1 score (should be above .53) \n"
   ]
  },
  {
   "cell_type": "code",
   "execution_count": 697,
   "metadata": {
    "collapsed": true
   },
   "outputs": [],
   "source": [
    "# Add your code for task 6 here. You may use multiple cells. \n",
    "preds = np.argmax(lda.transform(tf), 1)\n"
   ]
  },
  {
   "cell_type": "code",
   "execution_count": 705,
   "metadata": {},
   "outputs": [],
   "source": [
    "preds[preds == 8] = 0"
   ]
  },
  {
   "cell_type": "code",
   "execution_count": 729,
   "metadata": {},
   "outputs": [],
   "source": [
    "new_labels = np.empty(preds.shape[0],dtype='O')"
   ]
  },
  {
   "cell_type": "code",
   "execution_count": 733,
   "metadata": {},
   "outputs": [],
   "source": [
    "new_labels[preds == 0] = \"people speed\"\n",
    "new_labels[preds == 1] = \"people cross away from the crosswalks\"\n",
    "new_labels[preds == 2] = \"bike facilities don't exist or need improvement\"\n",
    "new_labels[preds == 3] = \"people don't yield while turning\"\n",
    "new_labels[preds == 4] = \"people run red lights / stop signs\"\n",
    "new_labels[preds == 5] = \"sidewalks/ramps don't exist or need improvement\"\n",
    "new_labels[preds == 6] = \"people double park their vehicles\"\n",
    "new_labels[preds == 7] = \"the wait for the \\\"Walk\\\" signal is too long\"\n",
    "new_labels[preds == 9] = \"too much traffic during rush hour\"\n"
   ]
  },
  {
   "cell_type": "code",
   "execution_count": 736,
   "metadata": {},
   "outputs": [
    {
     "data": {
      "text/plain": [
       "array(['people speed', 'the wait for the \"Walk\" signal is too long',\n",
       "       'the wait for the \"Walk\" signal is too long', ...,\n",
       "       'people double park their vehicles', 'people speed', 'people speed'], dtype=object)"
      ]
     },
     "execution_count": 736,
     "metadata": {},
     "output_type": "execute_result"
    }
   ],
   "source": [
    "new_labels"
   ]
  },
  {
   "cell_type": "code",
   "execution_count": 746,
   "metadata": {},
   "outputs": [],
   "source": [
    "other_comments = other_data['COMMENTS'].as_matrix()"
   ]
  },
  {
   "cell_type": "code",
   "execution_count": 747,
   "metadata": {
    "collapsed": true
   },
   "outputs": [],
   "source": [
    "tf_other = tf_vectorizer.transform(other_comments)"
   ]
  },
  {
   "cell_type": "code",
   "execution_count": 751,
   "metadata": {},
   "outputs": [],
   "source": [
    "preds_other = np.argmax(lda.transform(tf_other), 1)"
   ]
  },
  {
   "cell_type": "code",
   "execution_count": 754,
   "metadata": {},
   "outputs": [],
   "source": [
    "preds_other[preds_other == 8] = 0\n",
    "new_labels_other = np.empty(preds_other.shape[0],dtype='O')\n",
    "new_labels_other[preds_other == 0] = \"people speed\"\n",
    "new_labels_other[preds_other == 1] = \"people cross away from the crosswalks\"\n",
    "new_labels_other[preds_other == 2] = \"bike facilities don't exist or need improvement\"\n",
    "new_labels_other[preds_other == 3] = \"people don't yield while turning\"\n",
    "new_labels_other[preds_other == 4] = \"people run red lights / stop signs\"\n",
    "new_labels_other[preds_other == 5] = \"sidewalks/ramps don't exist or need improvement\"\n",
    "new_labels_other[preds_other == 6] = \"people double park their vehicles\"\n",
    "new_labels_other[preds_other == 7] = \"the wait for the \\\"Walk\\\" signal is too long\"\n",
    "new_labels_other[preds_other == 9] = \"too much traffic during rush hour\"\n"
   ]
  },
  {
   "cell_type": "code",
   "execution_count": 758,
   "metadata": {
    "collapsed": true
   },
   "outputs": [],
   "source": [
    "le=LabelEncoder()\n",
    "new_labels_other = le.fit_transform(new_labels_other)"
   ]
  },
  {
   "cell_type": "code",
   "execution_count": 764,
   "metadata": {},
   "outputs": [],
   "source": [
    "new_data = pd.DataFrame({\"comments\":other_comments, \"labels\":new_labels_other})"
   ]
  },
  {
   "cell_type": "code",
   "execution_count": 765,
   "metadata": {
    "collapsed": true
   },
   "outputs": [],
   "source": [
    "train,test = train_test_split(new_data.as_matrix(), test_size=0.2)"
   ]
  },
  {
   "cell_type": "code",
   "execution_count": 767,
   "metadata": {
    "collapsed": true
   },
   "outputs": [],
   "source": [
    "train_X = train[:,0]\n",
    "train_y = train[:,1].astype('float')\n",
    "test_X  = test[:,0]\n",
    "test_y  = test[:,1].astype('float')"
   ]
  },
  {
   "cell_type": "code",
   "execution_count": 770,
   "metadata": {},
   "outputs": [],
   "source": [
    "# Add your code for task 3 here. You may use multiple cells. \n",
    "text_clf = Pipeline([('vect', CountVectorizer()),\n",
    "                     ('tfidf', TfidfTransformer()),\n",
    "                     ('clf', LogisticRegression()),])\n",
    "parameters = {'vect__ngram_range': [(1, 2), (1,3), (1,4)],\n",
    "#               'vect__stop_words': (None, \"english\"),\n",
    "              'tfidf__use_idf': (True, False),\n",
    "#               'vect__min_df': (1,2,3),\n",
    "#               'vect__max_features': (None,3,4),\n",
    "              'clf__class_weight': ['balanced', None],\n",
    "              'clf__C': np.logspace(-3, 2, 6)\n",
    "}\n",
    "gs_clf = GridSearchCV(text_clf, parameters, cv=5, n_jobs=8)\n"
   ]
  },
  {
   "cell_type": "code",
   "execution_count": 772,
   "metadata": {},
   "outputs": [
    {
     "data": {
      "text/plain": [
       "GridSearchCV(cv=5, error_score='raise',\n",
       "       estimator=Pipeline(steps=[('vect', CountVectorizer(analyzer='word', binary=False, decode_error='strict',\n",
       "        dtype=<class 'numpy.int64'>, encoding='utf-8', input='content',\n",
       "        lowercase=True, max_df=1.0, max_features=None, min_df=1,\n",
       "        ngram_range=(1, 1), preprocessor=None, stop_words=None,\n",
       "        strip...ty='l2', random_state=None, solver='liblinear', tol=0.0001,\n",
       "          verbose=0, warm_start=False))]),\n",
       "       fit_params={}, iid=True, n_jobs=8,\n",
       "       param_grid={'tfidf__use_idf': (True, False), 'clf__class_weight': ['balanced', None], 'clf__C': array([  1.00000e-03,   1.00000e-02,   1.00000e-01,   1.00000e+00,\n",
       "         1.00000e+01,   1.00000e+02]), 'vect__ngram_range': [(1, 2), (1, 3), (1, 4)]},\n",
       "       pre_dispatch='2*n_jobs', refit=True, return_train_score=True,\n",
       "       scoring=None, verbose=0)"
      ]
     },
     "execution_count": 772,
     "metadata": {},
     "output_type": "execute_result"
    }
   ],
   "source": [
    "gs_clf.fit(train_X, train_y)"
   ]
  },
  {
   "cell_type": "code",
   "execution_count": 776,
   "metadata": {},
   "outputs": [
    {
     "data": {
      "text/plain": [
       "{'clf__C': 100.0,\n",
       " 'clf__class_weight': None,\n",
       " 'tfidf__use_idf': True,\n",
       " 'vect__ngram_range': (1, 2)}"
      ]
     },
     "execution_count": 776,
     "metadata": {},
     "output_type": "execute_result"
    }
   ],
   "source": [
    "gs_clf.best_params_"
   ]
  },
  {
   "cell_type": "code",
   "execution_count": 773,
   "metadata": {
    "collapsed": true
   },
   "outputs": [],
   "source": [
    "predicted = gs_clf.predict(test_X)"
   ]
  },
  {
   "cell_type": "code",
   "execution_count": 775,
   "metadata": {},
   "outputs": [],
   "source": [
    "f1_score = f1_score(test_y, predicted, average=\"macro\")"
   ]
  },
  {
   "cell_type": "code",
   "execution_count": null,
   "metadata": {
    "collapsed": true
   },
   "outputs": [],
   "source": [
    "print(f1_score)\n",
    "assert(f1_score > .53)"
   ]
  },
  {
   "cell_type": "markdown",
   "metadata": {},
   "source": [
    "# Extra Credit [Up to +20 points]"
   ]
  },
  {
   "cell_type": "markdown",
   "metadata": {},
   "source": [
    "Use a word embedding representation like word2vec for step 3 and or step 6. "
   ]
  },
  {
   "cell_type": "code",
   "execution_count": 7,
   "metadata": {
    "collapsed": true
   },
   "outputs": [],
   "source": [
    "# Add your code for extra credit here. You may use multiple cells. \n",
    "\n"
   ]
  },
  {
   "cell_type": "markdown",
   "metadata": {},
   "source": [
    "### Gradient Boosting w/ n-grams"
   ]
  },
  {
   "cell_type": "code",
   "execution_count": 389,
   "metadata": {
    "collapsed": true
   },
   "outputs": [],
   "source": [
    "# text_clf = Pipeline([('vect', CountVectorizer(ngram_range=(1,4))),\n",
    "#                      ('tfidf', TfidfTransformer(use_idf=True)),\n",
    "#                      ('clf', XGBClassifier( learning_rate =0.1, n_estimators=140,\n",
    "#                                          gamma=0, subsample=0.8, colsample_bytree=0.8,\n",
    "#                                         objective= 'binary:logistic', nthread=8, scale_pos_weight=1, seed=0)),])\n",
    "# param_xgb = {\n",
    "#     'clf__max_depth':range(3,10,2),\n",
    "#     'clf__min_child_weight':range(1,6,2)\n",
    "# }\n",
    "# grid_xgb = GridSearchCV(text_clf, param_grid = param_xgb,n_jobs=1,iid=False, cv=5)"
   ]
  },
  {
   "cell_type": "code",
   "execution_count": 390,
   "metadata": {},
   "outputs": [
    {
     "name": "stdout",
     "output_type": "stream",
     "text": [
      "{'clf__max_depth': 5, 'clf__min_child_weight': 1}\n"
     ]
    }
   ],
   "source": [
    "# grid_xgb.fit(train_X, train_y)\n",
    "# print(grid_xgb.best_params_)"
   ]
  },
  {
   "cell_type": "code",
   "execution_count": 395,
   "metadata": {},
   "outputs": [
    {
     "data": {
      "text/plain": [
       "GridSearchCV(cv=5, error_score='raise',\n",
       "       estimator=Pipeline(steps=[('vect', CountVectorizer(analyzer='word', binary=False, decode_error='strict',\n",
       "        dtype=<class 'numpy.int64'>, encoding='utf-8', input='content',\n",
       "        lowercase=True, max_df=1.0, max_features=None, min_df=1,\n",
       "        ngram_range=(1, 4), preprocessor=None, stop_words=None,\n",
       "        strip...gistic', reg_alpha=0, reg_lambda=1,\n",
       "       scale_pos_weight=1, seed=0, silent=True, subsample=0.8))]),\n",
       "       fit_params={}, iid=False, n_jobs=1,\n",
       "       param_grid={'clf__max_depth': range(3, 10, 2), 'clf__min_child_weight': range(1, 6, 2)},\n",
       "       pre_dispatch='2*n_jobs', refit=True, return_train_score=True,\n",
       "       scoring=None, verbose=0)"
      ]
     },
     "execution_count": 395,
     "metadata": {},
     "output_type": "execute_result"
    }
   ],
   "source": [
    "# grid_xgb"
   ]
  },
  {
   "cell_type": "code",
   "execution_count": 392,
   "metadata": {
    "collapsed": true
   },
   "outputs": [],
   "source": [
    "# predicted = grid_xgb.predict(test_X)\n"
   ]
  },
  {
   "cell_type": "code",
   "execution_count": 393,
   "metadata": {},
   "outputs": [
    {
     "data": {
      "text/plain": [
       "0.55263157894736847"
      ]
     },
     "execution_count": 393,
     "metadata": {},
     "output_type": "execute_result"
    }
   ],
   "source": [
    "# np.mean(predicted == test_y)"
   ]
  },
  {
   "cell_type": "code",
   "execution_count": 394,
   "metadata": {},
   "outputs": [
    {
     "data": {
      "text/plain": [
       "0.50391595248178778"
      ]
     },
     "execution_count": 394,
     "metadata": {},
     "output_type": "execute_result"
    }
   ],
   "source": [
    "# f1_score(test_y, predicted, average=\"macro\")"
   ]
  }
 ],
 "metadata": {
  "anaconda-cloud": {},
  "kernelspec": {
   "display_name": "Python 3",
   "language": "python",
   "name": "python3"
  },
  "language_info": {
   "codemirror_mode": {
    "name": "ipython",
    "version": 3
   },
   "file_extension": ".py",
   "mimetype": "text/x-python",
   "name": "python",
   "nbconvert_exporter": "python",
   "pygments_lexer": "ipython3",
   "version": "3.5.2"
  }
 },
 "nbformat": 4,
 "nbformat_minor": 1
}
