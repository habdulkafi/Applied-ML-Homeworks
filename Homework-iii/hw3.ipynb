{
 "cells": [
  {
   "cell_type": "markdown",
   "metadata": {},
   "source": [
    "# Submission Information:\n",
    "\n",
    "### Team Member 1:\n",
    "* UNI:  hsa2136\n",
    "* Name: Husam Abdul-Kafi"
   ]
  },
  {
   "cell_type": "markdown",
   "metadata": {},
   "source": [
    "# Step1 - Exploration and Preparation [10 points]\n",
    "\n",
    "In this step, we expect you to look into the data and try to understand it before modeling. This understanding may lead to some basic data preparation steps which are common across the two model sets required."
   ]
  },
  {
   "cell_type": "code",
   "execution_count": 1,
   "metadata": {
    "collapsed": true
   },
   "outputs": [],
   "source": [
    "RUNNING_ON_TRAVIS = True"
   ]
  },
  {
   "cell_type": "code",
   "execution_count": 2,
   "metadata": {
    "collapsed": true
   },
   "outputs": [],
   "source": [
    "#write code below, you can make multiple cells\n",
    "%matplotlib inline\n",
    "import matplotlib.pyplot as plt\n",
    "import pandas as pd\n",
    "import numpy as np\n",
    "from sklearn.model_selection import train_test_split, GridSearchCV, cross_val_predict\n",
    "from sklearn.decomposition import PCA\n",
    "from sklearn.pipeline import make_pipeline\n",
    "from sklearn.preprocessing import Imputer, StandardScaler, PolynomialFeatures, OneHotEncoder, FunctionTransformer\n",
    "from sklearn.svm import SVC, LinearSVC\n",
    "from sklearn.metrics import precision_recall_curve, roc_auc_score\n",
    "from sklearn.linear_model import LogisticRegression, LogisticRegressionCV\n",
    "from sklearn.tree import DecisionTreeClassifier\n",
    "from sklearn.ensemble import RandomForestClassifier, VotingClassifier\n",
    "import xgboost as xgb\n",
    "from xgboost.sklearn import XGBClassifier"
   ]
  },
  {
   "cell_type": "code",
   "execution_count": 3,
   "metadata": {
    "collapsed": true
   },
   "outputs": [],
   "source": [
    "data = pd.read_csv(\"data/data.csv\")\n",
    "test = pd.read_csv(\"data/holdout.csv\")"
   ]
  },
  {
   "cell_type": "code",
   "execution_count": 4,
   "metadata": {
    "collapsed": false
   },
   "outputs": [
    {
     "name": "stderr",
     "output_type": "stream",
     "text": [
      "/usr/local/lib/python3.5/dist-packages/ipykernel/__main__.py:1: SettingWithCopyWarning: \n",
      "A value is trying to be set on a copy of a slice from a DataFrame\n",
      "\n",
      "See the caveats in the documentation: http://pandas.pydata.org/pandas-docs/stable/indexing.html#indexing-view-versus-copy\n",
      "  if __name__ == '__main__':\n",
      "/usr/local/lib/python3.5/dist-packages/ipykernel/__main__.py:2: SettingWithCopyWarning: \n",
      "A value is trying to be set on a copy of a slice from a DataFrame\n",
      "\n",
      "See the caveats in the documentation: http://pandas.pydata.org/pandas-docs/stable/indexing.html#indexing-view-versus-copy\n",
      "  from ipykernel import kernelapp as app\n"
     ]
    }
   ],
   "source": [
    "data['subscribed'][data['subscribed'] == 'no'] = 0\n",
    "data['subscribed'][data['subscribed'] == 'yes'] = 1"
   ]
  },
  {
   "cell_type": "code",
   "execution_count": 5,
   "metadata": {
    "collapsed": true
   },
   "outputs": [],
   "source": [
    "data['job'] = pd.Categorical(data['job']).codes\n",
    "data['marital_status'] = pd.Categorical(data['marital_status']).codes\n",
    "data['education'] = pd.Categorical(data['education']).codes\n",
    "# data['credit_default'].value_counts()\n",
    "data = data.drop('credit_default',axis=1)\n",
    "data['housing'] = pd.Categorical(data['housing']).codes\n",
    "data['loan'] = pd.Categorical(data['loan']).codes\n",
    "data['contact'] = pd.Categorical(data['contact']).codes\n",
    "data['prev_outcomes'] = pd.Categorical(data['prev_outcomes']).codes\n",
    "# data['prev_days'][data['prev_days'] == 999] = np.nan"
   ]
  },
  {
   "cell_type": "code",
   "execution_count": 6,
   "metadata": {
    "collapsed": true
   },
   "outputs": [],
   "source": [
    "test['job'] = pd.Categorical(test['job']).codes\n",
    "test['marital_status'] = pd.Categorical(test['marital_status']).codes\n",
    "test['education'] = pd.Categorical(test['education']).codes\n",
    "# test['credit_default'].value_counts()\n",
    "test = test.drop('credit_default',axis=1)\n",
    "test['housing'] = pd.Categorical(test['housing']).codes\n",
    "test['loan'] = pd.Categorical(test['loan']).codes\n",
    "test['contact'] = pd.Categorical(test['contact']).codes\n",
    "test['prev_outcomes'] = pd.Categorical(test['prev_outcomes']).codes\n",
    "test = test.drop('ID', axis=1)\n",
    "# test['prev_days'][test['prev_days'] == 999] = np.nan"
   ]
  },
  {
   "cell_type": "code",
   "execution_count": 7,
   "metadata": {
    "collapsed": true
   },
   "outputs": [],
   "source": [
    "full_train_X = data[['age', 'job', 'marital_status', 'education', 'housing', 'loan',\n",
    "       'contact', 'campaign',\n",
    "       'prev_contacts', 'prev_outcomes', 'emp_var_rate', 'cons_price_idx',\n",
    "       'cons_conf_idx', 'euribor3m', 'nr_employed']].as_matrix()\n",
    "full_test_X = test[['age', 'job', 'marital_status', 'education', 'housing', 'loan',\n",
    "       'contact', 'campaign',\n",
    "       'prev_contacts', 'prev_outcomes', 'emp_var_rate', 'cons_price_idx',\n",
    "       'cons_conf_idx', 'euribor3m', 'nr_employed']].as_matrix()\n",
    "full_train_y = data['subscribed'].values.astype('float')"
   ]
  },
  {
   "cell_type": "code",
   "execution_count": 8,
   "metadata": {
    "collapsed": true
   },
   "outputs": [],
   "source": [
    "train, test = train_test_split(data, test_size = 0.2)\n",
    "train_X = train[['age', 'job', 'marital_status', 'education', 'housing', 'loan',\n",
    "       'contact', 'campaign',\n",
    "       'prev_contacts', 'prev_outcomes', 'emp_var_rate', 'cons_price_idx',\n",
    "       'cons_conf_idx', 'euribor3m', 'nr_employed']].as_matrix()\n",
    "test_X = test[['age', 'job', 'marital_status', 'education', 'housing', 'loan',\n",
    "       'contact', 'campaign',\n",
    "       'prev_contacts', 'prev_outcomes', 'emp_var_rate', 'cons_price_idx',\n",
    "       'cons_conf_idx', 'euribor3m', 'nr_employed']].as_matrix()\n",
    "train_y = train['subscribed'].values.astype('float')\n",
    "test_y = test['subscribed'].values.astype('float')\n"
   ]
  },
  {
   "cell_type": "code",
   "execution_count": 9,
   "metadata": {
    "collapsed": true
   },
   "outputs": [],
   "source": [
    "pca_scaled = make_pipeline(StandardScaler(), PCA(n_components=2))\n",
    "X_pca = pca_scaled.fit_transform(train_X)"
   ]
  },
  {
   "cell_type": "code",
   "execution_count": 10,
   "metadata": {
    "collapsed": false
   },
   "outputs": [
    {
     "data": {
      "text/plain": [
       "<matplotlib.collections.PathCollection at 0x7f90519c83c8>"
      ]
     },
     "execution_count": 10,
     "metadata": {},
     "output_type": "execute_result"
    },
    {
     "data": {
      "image/png": "[encoded data removed]",
      "text/plain": [
       "<matplotlib.figure.Figure at 0x7f90519c8438>"
      ]
     },
     "metadata": {},
     "output_type": "display_data"
    }
   ],
   "source": [
    "plt.scatter(X_pca[:,0], X_pca[:, 1], c = train_y)"
   ]
  },
  {
   "cell_type": "code",
   "execution_count": 11,
   "metadata": {
    "collapsed": false
   },
   "outputs": [
    {
     "data": {
      "text/plain": [
       "<matplotlib.colorbar.Colorbar at 0x7f904d2cce10>"
      ]
     },
     "execution_count": 11,
     "metadata": {},
     "output_type": "execute_result"
    },
    {
     "data": {
      "image/png": "[encoded data removed]",
      "text/plain": [
       "<matplotlib.figure.Figure at 0x7f90519c8c18>"
      ]
     },
     "metadata": {},
     "output_type": "display_data"
    }
   ],
   "source": [
    "plt.imshow(pca_scaled.named_steps['pca'].components_.T)\n",
    "plt.yticks(range(len(['age', 'job', 'marital_status', 'education', 'housing', 'loan',\n",
    "       'contact', 'campaign',\n",
    "       'prev_contacts', 'prev_outcomes', 'emp_var_rate', 'cons_price_idx',\n",
    "       'cons_conf_idx', 'euribor3m', 'nr_employed'])),['age', 'job', 'marital_status', 'education', 'housing', 'loan',\n",
    "       'contact', 'campaign',\n",
    "       'prev_contacts', 'prev_outcomes', 'emp_var_rate', 'cons_price_idx',\n",
    "       'cons_conf_idx', 'euribor3m', 'nr_employed'])\n",
    "plt.colorbar()"
   ]
  },
  {
   "cell_type": "markdown",
   "metadata": {},
   "source": [
    "# Step2 - ModelSet1 [35 points]\n",
    "\n",
    "In this step, we expect you to perform the following steps relevant to the models you choose for set1:\n",
    "\n",
    "* feature engineering\n",
    "* validation\n",
    "* feature selection\n",
    "* final model selection\n",
    "\n",
    "You may select up to 5 models in this step for the purpose of final ensemble. Any classification algorithm covered in class apart from tree-based models can be tested here."
   ]
  },
  {
   "cell_type": "markdown",
   "metadata": {},
   "source": [
    "## Logistic Regression"
   ]
  },
  {
   "cell_type": "code",
   "execution_count": 12,
   "metadata": {
    "collapsed": false
   },
   "outputs": [
    {
     "name": "stdout",
     "output_type": "stream",
     "text": [
      "0.758680194515\n",
      "0.892716236722\n"
     ]
    }
   ],
   "source": [
    "logreg = LogisticRegressionCV(n_jobs=5, scoring='roc_auc').fit(train_X, train_y)\n",
    "print(roc_auc_score(test_y, logreg.decision_function(test_X)))\n",
    "print(logreg.score(test_X, test_y))"
   ]
  },
  {
   "cell_type": "code",
   "execution_count": 13,
   "metadata": {
    "collapsed": false
   },
   "outputs": [
    {
     "name": "stdout",
     "output_type": "stream",
     "text": [
      "0.761412422163\n",
      "0.744916540212\n"
     ]
    }
   ],
   "source": [
    "logreg = LogisticRegressionCV(n_jobs=5, scoring='roc_auc', class_weight='balanced').fit(train_X, train_y)\n",
    "print(roc_auc_score(test_y, logreg.decision_function(test_X)))\n",
    "print(logreg.score(test_X, test_y))"
   ]
  },
  {
   "cell_type": "code",
   "execution_count": 14,
   "metadata": {
    "collapsed": false
   },
   "outputs": [
    {
     "name": "stdout",
     "output_type": "stream",
     "text": [
      "0.783641138014\n"
     ]
    }
   ],
   "source": [
    "pipe_logreg = make_pipeline(StandardScaler(), PolynomialFeatures(), LogisticRegression())\n",
    "if not RUNNING_ON_TRAVIS:\n",
    "    parameters = {'logisticregression__class_weight': ['balanced', None],\n",
    "                  'logisticregression__C': np.logspace(-3, 2, 6)\n",
    "                 }\n",
    "    grid_logreg = GridSearchCV(pipe_logreg, param_grid=parameters, cv=5, n_jobs=8, scoring='roc_auc')\n",
    "    grid_logreg.fit(train_X, train_y)\n",
    "\n",
    "    print(roc_auc_score(test_y, grid_logreg.decision_function(test_X)))\n",
    "    print(grid_logreg.best_params_)\n",
    "    logreg_best_params = grid_logreg.best_params_\n",
    "else:\n",
    "    logreg_best_params = {'logisticregression__C': 1.0, 'logisticregression__class_weight': None}\n",
    "    pipe_logreg.set_params(**logreg_best_params)\n",
    "    grid_logreg =  pipe_logreg.fit(train_X, train_y)\n",
    "    print(roc_auc_score(test_y, grid_logreg.decision_function(test_X)))"
   ]
  },
  {
   "cell_type": "code",
   "execution_count": 45,
   "metadata": {
    "collapsed": false
   },
   "outputs": [
    {
     "name": "stdout",
     "output_type": "stream",
     "text": [
      "0.792734060465\n"
     ]
    }
   ],
   "source": []
  },
  {
   "cell_type": "code",
   "execution_count": 15,
   "metadata": {
    "collapsed": false
   },
   "outputs": [
    {
     "data": {
      "text/plain": [
       "<matplotlib.legend.Legend at 0x7f90519c8be0>"
      ]
     },
     "execution_count": 15,
     "metadata": {},
     "output_type": "execute_result"
    },
    {
     "data": {
      "image/png": "[encoded data removed]",
      "text/plain": [
       "<matplotlib.figure.Figure at 0x7f9078242588>"
      ]
     },
     "metadata": {},
     "output_type": "display_data"
    }
   ],
   "source": [
    "precision, recall, thresholds = precision_recall_curve(\n",
    "        test_y, grid_logreg.decision_function(test_X))\n",
    "close_zero = np.argmin(np.abs(thresholds))\n",
    "plt.plot(precision[close_zero], recall[close_zero], 'o', markersize=10, \n",
    "        label = \"threshold zero\", fillstyle=\"none\", c = 'k', mew=2)\n",
    "plt.plot(precision, recall, label=\"precision recall curve\")\n",
    "plt.xlabel(\"Precision\")\n",
    "plt.ylabel(\"Recall\")\n",
    "plt.legend(loc=\"best\")"
   ]
  },
  {
   "cell_type": "markdown",
   "metadata": {},
   "source": [
    "## Linear Support Vector Classifier"
   ]
  },
  {
   "cell_type": "code",
   "execution_count": 16,
   "metadata": {
    "collapsed": false
   },
   "outputs": [
    {
     "name": "stdout",
     "output_type": "stream",
     "text": [
      "0.740977552626\n",
      "0.883004552352\n"
     ]
    }
   ],
   "source": [
    "linsvc = LinearSVC(class_weight='balanced').fit(train_X, train_y)\n",
    "print(roc_auc_score(test_y, linsvc.decision_function(test_X)))\n",
    "print(linsvc.score(test_X, test_y))"
   ]
  },
  {
   "cell_type": "code",
   "execution_count": 17,
   "metadata": {
    "collapsed": false
   },
   "outputs": [
    {
     "name": "stdout",
     "output_type": "stream",
     "text": [
      "0.779293601688\n"
     ]
    }
   ],
   "source": [
    "pipe_svc = make_pipeline(StandardScaler(), PolynomialFeatures(), LinearSVC())\n",
    "if not RUNNING_ON_TRAVIS:\n",
    "    parameters_svc = {'linearsvc__C': np.logspace(-3, 2, 6),\n",
    "                      'linearsvc__loss': [\"hinge\", \"squared_hinge\"]\n",
    "                     }\n",
    "    grid_svc = GridSearchCV(pipe_svc, param_grid=parameters_svc, cv=5, n_jobs=8, scoring='roc_auc')\n",
    "    grid_svc.fit(train_X, train_y)\n",
    "    print(roc_auc_score(test_y, grid_svc.decision_function(test_X)))\n",
    "    print(grid_svc.best_params_)\n",
    "    svc_best_params = grid_svc.best_params_\n",
    "else:\n",
    "    svc_best_params = {'linearsvc__C': 0.01, 'linearsvc__loss': 'squared_hinge'}\n",
    "    pipe_svc.set_params(**svc_best_params)\n",
    "    grid_svc = pipe_svc.fit(train_X, train_y)\n",
    "    print(roc_auc_score(test_y, grid_svc.decision_function(test_X)))"
   ]
  },
  {
   "cell_type": "code",
   "execution_count": 22,
   "metadata": {
    "collapsed": false
   },
   "outputs": [
    {
     "name": "stdout",
     "output_type": "stream",
     "text": [
      "0.784837056041\n",
      "{'linearsvc__C': 0.01, 'linearsvc__loss': 'squared_hinge'}\n"
     ]
    }
   ],
   "source": []
  },
  {
   "cell_type": "markdown",
   "metadata": {},
   "source": [
    "# Step3 - ModelSet2 [35 points]\n",
    "\n",
    "In this step, we expect you to perform the following steps relevant to the models you choose for set2:\n",
    "\n",
    "* feature engineering\n",
    "* validation\n",
    "* feature selection\n",
    "* final model selection\n",
    "\n",
    "You may select up to 5 models in this step for the purpose of final ensemble. We encourage you to try decition tree, random forest and gradient boosted tree methods here and pick the one which you think works best."
   ]
  },
  {
   "cell_type": "markdown",
   "metadata": {},
   "source": [
    "## Regular Decision Tree"
   ]
  },
  {
   "cell_type": "code",
   "execution_count": 18,
   "metadata": {
    "collapsed": false
   },
   "outputs": [
    {
     "name": "stdout",
     "output_type": "stream",
     "text": [
      "0.759042284889\n"
     ]
    }
   ],
   "source": [
    "\n",
    "if not RUNNING_ON_TRAVIS:\n",
    "    leaves = list(range(2,20))\n",
    "    leaves.append(None)\n",
    "    depth = list(range(1,4))\n",
    "    depth.append(None)\n",
    "    param_grid_tree = {'max_leaf_nodes': leaves, 'max_depth': depth}\n",
    "    grid_tree = GridSearchCV(DecisionTreeClassifier(random_state=0), param_grid=param_grid_tree, n_jobs= 8, cv = 5)\n",
    "    grid_tree.fit(train_X, train_y)\n",
    "    preds_tree = grid_tree.predict_proba(test_X)[:, 1]\n",
    "    print(roc_auc_score(test_y, preds_tree))\n",
    "    tree_best_params = grid_tree.best_params_\n",
    "    print(tree_best_params)\n",
    "else:\n",
    "    tree_best_params = {'max_leaf_nodes': 12, 'max_depth': None}\n",
    "    grid_tree = DecisionTreeClassifier(**tree_best_params)\n",
    "    grid_tree.fit(train_X, train_y)\n",
    "    preds_tree = grid_tree.predict_proba(test_X)[:, 1]\n",
    "    print(roc_auc_score(test_y, preds_tree))\n",
    "    "
   ]
  },
  {
   "cell_type": "code",
   "execution_count": null,
   "metadata": {
    "collapsed": false
   },
   "outputs": [],
   "source": []
  },
  {
   "cell_type": "markdown",
   "metadata": {},
   "source": [
    "## Random Forests"
   ]
  },
  {
   "cell_type": "code",
   "execution_count": 19,
   "metadata": {
    "collapsed": false
   },
   "outputs": [
    {
     "name": "stdout",
     "output_type": "stream",
     "text": [
      "0.768602518384\n"
     ]
    }
   ],
   "source": [
    "\n",
    "if not RUNNING_ON_TRAVIS:\n",
    "    depth = list(range(1,4))\n",
    "    depth.append(None)\n",
    "    param_grid_rf = {\"n_estimators\": range(10,511, 100), \n",
    "                     'max_depth': depth, \n",
    "                     'min_samples_split': range(2,11,2), \n",
    "                     'min_samples_leaf': range(1,6)}\n",
    "    grid_rf = GridSearchCV(RandomForestClassifier(random_state=0), param_grid=param_grid_rf, cv=5, n_jobs=8)\n",
    "    grid_rf.fit(train_X, train_y)\n",
    "    pred_rf_grid = grid_rf.predict_proba(test_X)[:, 1]\n",
    "    print(roc_auc_score(test_y, pred_rf_grid))\n",
    "    rf_best_params = grid_rf.best_params_\n",
    "    print(rf_best_params)\n",
    "else:\n",
    "    rf_best_params = {'n_estimators': 210, 'min_samples_leaf': 3, 'max_depth': None, 'min_samples_split': 8}\n",
    "    grid_rf = RandomForestClassifier(random_state=0, **rf_best_params)\n",
    "    grid_rf.fit(train_X, train_y)\n",
    "    pred_rf_grid = grid_rf.predict_proba(test_X)[:, 1]\n",
    "    print(roc_auc_score(test_y, pred_rf_grid))\n",
    "    "
   ]
  },
  {
   "cell_type": "markdown",
   "metadata": {},
   "source": [
    "## Gradient Boosting"
   ]
  },
  {
   "cell_type": "code",
   "execution_count": 24,
   "metadata": {
    "collapsed": false
   },
   "outputs": [
    {
     "name": "stdout",
     "output_type": "stream",
     "text": [
      "0.783606366639\n"
     ]
    }
   ],
   "source": [
    "if not RUNNING_ON_TRAVIS:\n",
    "    xgb_best_params = {}\n",
    "    # Check for best max_depth and min_child_weight\n",
    "    param_xgb = {\n",
    "        'max_depth':range(3,10,2),\n",
    "        'min_child_weight':range(1,6,2)\n",
    "    }\n",
    "    grid_xgb = GridSearchCV(estimator = XGBClassifier( learning_rate =0.1, n_estimators=140,\n",
    "                                             gamma=0, subsample=0.8, colsample_bytree=0.8,\n",
    "                                            objective= 'binary:logistic', nthread=8, scale_pos_weight=1, seed=0), \n",
    "                                            param_grid = param_xgb, scoring='roc_auc',n_jobs=1,iid=False, cv=5)\n",
    "    grid_xgb.fit(train_X, train_y)\n",
    "    print(grid_xgb.best_params_)\n",
    "    print(roc_auc_score(test_y, grid_xgb.predict_proba(test_X)[:,1]))\n",
    "    xgb_best_params.update(grid_xgb.best_params_)\n",
    "    \n",
    "    # Check for best gamma\n",
    "    param_xgb = {\n",
    "        'gamma':[i/10.0 for i in range(0,5)]\n",
    "    }\n",
    "    grid_xgb = GridSearchCV(estimator = XGBClassifier( learning_rate =0.1, n_estimators=140, max_depth=3,\n",
    "                                            min_child_weight=5, subsample=0.8, colsample_bytree=0.8,\n",
    "                                            objective= 'binary:logistic', nthread=8, scale_pos_weight=1, seed=0), \n",
    "                                            param_grid = param_xgb, scoring='roc_auc',n_jobs=1,iid=False, cv=5)\n",
    "    grid_xgb.fit(train_X, train_y)\n",
    "    print(grid_xgb.best_params_)\n",
    "    print(roc_auc_score(test_y, grid_xgb.predict_proba(test_X)[:,1]))\n",
    "    xgb_best_params.update(grid_xgb.best_params_)\n",
    "    \n",
    "    # Check for best subsample and colsample_bytree\n",
    "    param_xgb = {\n",
    "        'subsample':[i/10.0 for i in range(6,10)],\n",
    "        'colsample_bytree':[i/10.0 for i in range(6,10)]\n",
    "    }\n",
    "    grid_xgb = GridSearchCV(estimator = XGBClassifier( learning_rate =0.1, n_estimators=140, max_depth=3,\n",
    "                                            gamma=0.3, min_child_weight=5, \n",
    "                                            objective= 'binary:logistic', nthread=8, scale_pos_weight=1, seed=0), \n",
    "                                            param_grid = param_xgb, scoring='roc_auc',n_jobs=1,iid=False, cv=5)\n",
    "    grid_xgb.fit(train_X, train_y)\n",
    "    print(grid_xgb.best_params_)\n",
    "    print(roc_auc_score(test_y, grid_xgb.predict_proba(test_X)[:,1]))\n",
    "    xgb_best_params.update(grid_xgb.best_params_)\n",
    "    \n",
    "    # Check for best reg_alpha\n",
    "    param_xgb = {\n",
    "        'reg_alpha':[1e-5, 1e-2, 0.1, 0, 0.001, 0.005, 0.01, 0.05, 1, 100]\n",
    "    }\n",
    "    grid_xgb = GridSearchCV(estimator = XGBClassifier( learning_rate =0.1, n_estimators=140, max_depth=3,\n",
    "                                            gamma=0.3, min_child_weight=5, subsample=0.8, colsample_bytree=0.8,\n",
    "                                            objective= 'binary:logistic', nthread=8, scale_pos_weight=1, seed=0), \n",
    "                                            param_grid = param_xgb, scoring='roc_auc',n_jobs=1,iid=False, cv=5)\n",
    "    grid_xgb.fit(train_X, train_y)\n",
    "    print(grid_xgb.best_params_)\n",
    "    print(roc_auc_score(test_y, grid_xgb.predict_proba(test_X)[:,1]))\n",
    "    xgb_best_params.update(grid_xgb.best_params_)\n",
    "    \n",
    "    # Check for best n_estimators\n",
    "    param_xgb = {\n",
    "        'n_estimators':range(10, 311, 25)\n",
    "    }\n",
    "    grid_xgb = GridSearchCV(estimator = XGBClassifier( learning_rate =0.1, reg_alpha=0.001, max_depth=3,\n",
    "                                            gamma=0.3, min_child_weight=5, subsample=0.8, colsample_bytree=0.8,\n",
    "                                            objective= 'binary:logistic', nthread=8, scale_pos_weight=1, seed=0), \n",
    "                                            param_grid = param_xgb, scoring='roc_auc',n_jobs=1,iid=False, cv=5)\n",
    "    grid_xgb.fit(train_X, train_y)\n",
    "    print(grid_xgb.best_params_)\n",
    "    print(roc_auc_score(test_y, grid_xgb.predict_proba(test_X)[:,1]))\n",
    "    xgb_best_params.update(grid_xgb.best_params_)\n",
    "    \n",
    "else:\n",
    "    xgb_best_params = {'min_child_weight': 5, 'max_depth': 3, \n",
    "                       'gamma': 0.3, 'subsample': 0.8, 'n_estimators':85,\n",
    "                       'colsample_bytree': 0.8, 'reg_alpha': 0.001}\n",
    "    grid_xgb = XGBClassifier( learning_rate =0.1,objective= 'binary:logistic', nthread=8, scale_pos_weight=1, seed=0, **xgb_best_params)\n",
    "    grid_xgb.fit(train_X, train_y)\n",
    "    print(roc_auc_score(test_y, grid_xgb.predict_proba(test_X)[:,1]))"
   ]
  },
  {
   "cell_type": "markdown",
   "metadata": {},
   "source": [
    "# Step4 - Ensemble [20 points + 10 Bonus points]\n",
    "\n",
    "In this step, we expect you to use the models created before and create new predictions. You should definitely try poor man's stacking but we encourage you to think of different ensemble techniques as well. We will judge your creativity and improvement in model performance using ensemble models and you can potentially earn 10 bonus points here."
   ]
  },
  {
   "cell_type": "code",
   "execution_count": 28,
   "metadata": {
    "collapsed": false
   },
   "outputs": [],
   "source": [
    "voting = VotingClassifier([('logreg',make_pipeline(StandardScaler(), PolynomialFeatures(), LogisticRegression()).set_params(**logreg_best_params)),\n",
    "#                            ('svc', make_pipeline(StandardScaler(), PolynomialFeatures(), LinearSVC()).set_params(**svc_best_params)),\n",
    "                           ('dec_tree', DecisionTreeClassifier(random_state=0,**tree_best_params)),\n",
    "                           ('rf',RandomForestClassifier(random_state=0, **rf_best_params)),\n",
    "                           ('gxb',XGBClassifier( learning_rate =0.1,objective= 'binary:logistic', nthread=8, scale_pos_weight=1, seed=0, **xgb_best_params))],\n",
    "                         voting='soft')"
   ]
  },
  {
   "cell_type": "code",
   "execution_count": 30,
   "metadata": {
    "collapsed": false
   },
   "outputs": [
    {
     "data": {
      "text/plain": [
       "Pipeline(steps=[('votingclassifier', VotingClassifier(estimators=[('logreg', Pipeline(steps=[('standardscaler', StandardScaler(copy=True, with_mean=True, with_std=True)), ('polynomialfeatures', PolynomialFeatures(degree=2, include_bias=True, interaction_only=False)), ('logisticregression', LogisticRegression...1ba60>, inv_kw_args=None,\n",
       "          inverse_func=None, kw_args=None, pass_y=False, validate=False))])"
      ]
     },
     "execution_count": 30,
     "metadata": {},
     "output_type": "execute_result"
    }
   ],
   "source": [
    "reshaper = FunctionTransformer(lambda X_: np.rollaxis(X_, 1).reshape(-1,8)[:, 1::2], validate=False)\n",
    "first_stage = make_pipeline(voting, reshaper)\n",
    "transform_cv = cross_val_predict(first_stage, train_X, train_y, cv=5, method='transform')\n",
    "first_stage.fit(train_X, train_y)"
   ]
  },
  {
   "cell_type": "code",
   "execution_count": 43,
   "metadata": {
    "collapsed": false
   },
   "outputs": [],
   "source": [
    "second_stage = LogisticRegression(C=.001).fit(transform_cv, train_y)\n",
    "vote_roc_score = roc_auc_score(test_y, second_stage.predict_proba(first_stage.transform(test_X))[:,1])"
   ]
  },
  {
   "cell_type": "code",
   "execution_count": 46,
   "metadata": {
    "collapsed": false
   },
   "outputs": [],
   "source": [
    "assert(vote_roc_score > .77)"
   ]
  },
  {
   "cell_type": "code",
   "execution_count": null,
   "metadata": {
    "collapsed": false
   },
   "outputs": [],
   "source": []
  },
  {
   "cell_type": "code",
   "execution_count": null,
   "metadata": {
    "collapsed": true
   },
   "outputs": [],
   "source": []
  }
 ],
 "metadata": {
  "kernelspec": {
   "display_name": "Python 3",
   "language": "python",
   "name": "python3"
  },
  "language_info": {
   "codemirror_mode": {
    "name": "ipython",
    "version": 3
   },
   "file_extension": ".py",
   "mimetype": "text/x-python",
   "name": "python",
   "nbconvert_exporter": "python",
   "pygments_lexer": "ipython3",
   "version": "3.5.2"
  }
 },
 "nbformat": 4,
 "nbformat_minor": 1
}
